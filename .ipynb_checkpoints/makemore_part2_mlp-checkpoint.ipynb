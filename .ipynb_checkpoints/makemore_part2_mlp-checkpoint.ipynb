{
 "cells": [
  {
   "cell_type": "code",
   "execution_count": 4,
   "id": "initial_id",
   "metadata": {
    "ExecuteTime": {
     "end_time": "2024-01-02T13:48:51.270694Z",
     "start_time": "2024-01-02T13:48:47.698948Z"
    }
   },
   "outputs": [],
   "source": [
    "import torch\n",
    "import torch.nn.functional as F\n",
    "import matplotlib.pyplot as plt # for making figures\n",
    "%matplotlib inline"
   ]
  },
  {
   "cell_type": "code",
   "execution_count": 5,
   "id": "5400b6f4490494f9",
   "metadata": {
    "ExecuteTime": {
     "end_time": "2024-01-02T13:50:08.746108Z",
     "start_time": "2024-01-02T13:50:08.718185Z"
    },
    "collapsed": false,
    "jupyter": {
     "outputs_hidden": false
    }
   },
   "outputs": [
    {
     "data": {
      "text/plain": [
       "['emma', 'olivia', 'ava', 'isabella', 'sophia', 'charlotte', 'mia', 'amelia']"
      ]
     },
     "execution_count": 5,
     "metadata": {},
     "output_type": "execute_result"
    }
   ],
   "source": [
    "# read in all the words\n",
    "words = open('names.txt', 'r').read().splitlines()\n",
    "words[:8]"
   ]
  },
  {
   "cell_type": "code",
   "execution_count": 6,
   "id": "3ddde8e365764fe4",
   "metadata": {
    "ExecuteTime": {
     "end_time": "2024-01-02T13:55:44.663239Z",
     "start_time": "2024-01-02T13:55:44.654330Z"
    },
    "collapsed": false,
    "jupyter": {
     "outputs_hidden": false
    }
   },
   "outputs": [
    {
     "data": {
      "text/plain": [
       "32033"
      ]
     },
     "execution_count": 6,
     "metadata": {},
     "output_type": "execute_result"
    }
   ],
   "source": [
    "len(words)"
   ]
  },
  {
   "cell_type": "code",
   "execution_count": 7,
   "id": "1c83edb9fbc31b7b",
   "metadata": {
    "ExecuteTime": {
     "end_time": "2024-01-02T13:56:12.924264Z",
     "start_time": "2024-01-02T13:56:12.912789Z"
    },
    "collapsed": false,
    "jupyter": {
     "outputs_hidden": false
    }
   },
   "outputs": [
    {
     "name": "stdout",
     "output_type": "stream",
     "text": [
      "{1: 'a', 2: 'b', 3: 'c', 4: 'd', 5: 'e', 6: 'f', 7: 'g', 8: 'h', 9: 'i', 10: 'j', 11: 'k', 12: 'l', 13: 'm', 14: 'n', 15: 'o', 16: 'p', 17: 'q', 18: 'r', 19: 's', 20: 't', 21: 'u', 22: 'v', 23: 'w', 24: 'x', 25: 'y', 26: 'z', 0: '.'}\n"
     ]
    }
   ],
   "source": [
    "# build the vocabulary of characters and mappings to/from integers\n",
    "chars = sorted(list(set(''.join(words))))\n",
    "stoi = {s:i+1 for i,s in enumerate(chars)}\n",
    "stoi['.'] = 0\n",
    "itos = {i:s for s,i in stoi.items()}\n",
    "print(itos)\n"
   ]
  },
  {
   "cell_type": "code",
   "execution_count": 8,
   "id": "ff4e4ebc824ec993",
   "metadata": {
    "ExecuteTime": {
     "end_time": "2024-01-02T13:57:14.709224Z",
     "start_time": "2024-01-02T13:57:14.695167Z"
    },
    "collapsed": false,
    "jupyter": {
     "outputs_hidden": false
    }
   },
   "outputs": [
    {
     "name": "stdout",
     "output_type": "stream",
     "text": [
      "... ---> e\n",
      "..e ---> m\n",
      ".em ---> m\n",
      "emm ---> a\n",
      "mma ---> .\n",
      "... ---> o\n",
      "..o ---> l\n",
      ".ol ---> i\n",
      "oli ---> v\n",
      "liv ---> i\n",
      "ivi ---> a\n",
      "via ---> .\n",
      "... ---> a\n",
      "..a ---> v\n",
      ".av ---> a\n",
      "ava ---> .\n",
      "... ---> i\n",
      "..i ---> s\n",
      ".is ---> a\n",
      "isa ---> b\n",
      "sab ---> e\n",
      "abe ---> l\n",
      "bel ---> l\n",
      "ell ---> a\n",
      "lla ---> .\n",
      "... ---> s\n",
      "..s ---> o\n",
      ".so ---> p\n",
      "sop ---> h\n",
      "oph ---> i\n",
      "phi ---> a\n",
      "hia ---> .\n"
     ]
    }
   ],
   "source": [
    "# build the dataset\n",
    "\n",
    "block_size = 3 # context length: how many characters do we take to predict the next one?\n",
    "X, Y = [], []\n",
    "for w in words[:5]:\n",
    "  \n",
    "  #print(w)\n",
    "  context = [0] * block_size\n",
    "  for ch in w + '.':\n",
    "    ix = stoi[ch]\n",
    "    X.append(context)\n",
    "    Y.append(ix)\n",
    "    print(''.join(itos[i] for i in context), '--->', itos[ix])\n",
    "    context = context[1:] + [ix] # crop and append\n",
    "  \n",
    "X = torch.tensor(X)\n",
    "Y = torch.tensor(Y)"
   ]
  },
  {
   "cell_type": "code",
   "execution_count": 9,
   "id": "17b1e1a34fddb454",
   "metadata": {
    "ExecuteTime": {
     "end_time": "2024-01-02T13:58:30.762118Z",
     "start_time": "2024-01-02T13:58:30.751747Z"
    },
    "collapsed": false,
    "jupyter": {
     "outputs_hidden": false
    }
   },
   "outputs": [
    {
     "data": {
      "text/plain": [
       "(torch.Size([32, 3]), torch.int64, torch.Size([32]), torch.int64)"
      ]
     },
     "execution_count": 9,
     "metadata": {},
     "output_type": "execute_result"
    }
   ],
   "source": [
    "X.shape, X.dtype, Y.shape, Y.dtype\n",
    "#training data of 5 words has created a training set of 32 3-char-blocks"
   ]
  },
  {
   "cell_type": "code",
   "execution_count": 10,
   "id": "ad78eb8df4d57fbe",
   "metadata": {
    "ExecuteTime": {
     "end_time": "2024-01-02T13:59:32.685740Z",
     "start_time": "2024-01-02T13:59:32.670036Z"
    },
    "collapsed": false,
    "jupyter": {
     "outputs_hidden": false
    }
   },
   "outputs": [
    {
     "data": {
      "text/plain": [
       "tensor([[ 0,  0,  0],\n",
       "        [ 0,  0,  5],\n",
       "        [ 0,  5, 13],\n",
       "        [ 5, 13, 13],\n",
       "        [13, 13,  1],\n",
       "        [ 0,  0,  0],\n",
       "        [ 0,  0, 15],\n",
       "        [ 0, 15, 12],\n",
       "        [15, 12,  9],\n",
       "        [12,  9, 22],\n",
       "        [ 9, 22,  9],\n",
       "        [22,  9,  1],\n",
       "        [ 0,  0,  0],\n",
       "        [ 0,  0,  1],\n",
       "        [ 0,  1, 22],\n",
       "        [ 1, 22,  1],\n",
       "        [ 0,  0,  0],\n",
       "        [ 0,  0,  9],\n",
       "        [ 0,  9, 19],\n",
       "        [ 9, 19,  1],\n",
       "        [19,  1,  2],\n",
       "        [ 1,  2,  5],\n",
       "        [ 2,  5, 12],\n",
       "        [ 5, 12, 12],\n",
       "        [12, 12,  1],\n",
       "        [ 0,  0,  0],\n",
       "        [ 0,  0, 19],\n",
       "        [ 0, 19, 15],\n",
       "        [19, 15, 16],\n",
       "        [15, 16,  8],\n",
       "        [16,  8,  9],\n",
       "        [ 8,  9,  1]])"
      ]
     },
     "execution_count": 10,
     "metadata": {},
     "output_type": "execute_result"
    }
   ],
   "source": [
    "X #indexes of each of the characters in each of the 3 character blocks of thr training set"
   ]
  },
  {
   "cell_type": "code",
   "execution_count": 11,
   "id": "1401266e7b70b2c9",
   "metadata": {
    "ExecuteTime": {
     "end_time": "2024-01-02T14:02:32.587564Z",
     "start_time": "2024-01-02T14:02:32.571614Z"
    },
    "collapsed": false,
    "jupyter": {
     "outputs_hidden": false
    }
   },
   "outputs": [
    {
     "data": {
      "text/plain": [
       "tensor([ 5, 13, 13,  1,  0, 15, 12,  9, 22,  9,  1,  0,  1, 22,  1,  0,  9, 19,\n",
       "         1,  2,  5, 12, 12,  1,  0, 19, 15, 16,  8,  9,  1,  0])"
      ]
     },
     "execution_count": 11,
     "metadata": {},
     "output_type": "execute_result"
    }
   ],
   "source": [
    "Y #the 32 indexes of the actual char that should come as prediction to the 3char block in the respective index in X"
   ]
  },
  {
   "cell_type": "code",
   "execution_count": 12,
   "id": "6a38ff749055ecc4",
   "metadata": {
    "ExecuteTime": {
     "end_time": "2024-01-02T14:05:30.653138Z",
     "start_time": "2024-01-02T14:05:30.642020Z"
    },
    "collapsed": false,
    "jupyter": {
     "outputs_hidden": false
    }
   },
   "outputs": [],
   "source": [
    "#now we do embeddings to lower the dimension of the input. we have 27 possible characters, but in the paper they had 17K words and they compressed them into a 30 dim space. in our case, for 27 chars, we will cram it into 2d space\n",
    "C = torch.randn((27,2)) # this will map from each of the 27 char inputs, to a 2d space that carries the embeddings, this will put chars that occur in similar contexts in close proximity in the embeddings space"
   ]
  },
  {
   "cell_type": "code",
   "execution_count": 13,
   "id": "89077de4e643c390",
   "metadata": {
    "ExecuteTime": {
     "end_time": "2024-01-02T14:05:34.990426Z",
     "start_time": "2024-01-02T14:05:34.982727Z"
    },
    "collapsed": false,
    "jupyter": {
     "outputs_hidden": false
    }
   },
   "outputs": [
    {
     "data": {
      "text/plain": [
       "tensor([1.2254, 0.0874])"
      ]
     },
     "execution_count": 13,
     "metadata": {},
     "output_type": "execute_result"
    }
   ],
   "source": [
    "C[5] #we initialize the embeddings table randomly"
   ]
  },
  {
   "cell_type": "code",
   "execution_count": 14,
   "id": "fcff0ce4a5ee56f0",
   "metadata": {
    "ExecuteTime": {
     "end_time": "2024-01-02T14:06:23.088003Z",
     "start_time": "2024-01-02T14:06:23.070255Z"
    },
    "collapsed": false,
    "jupyter": {
     "outputs_hidden": false
    }
   },
   "outputs": [],
   "source": [
    "#to build intution, lets build embeddings for a single char:"
   ]
  },
  {
   "cell_type": "code",
   "execution_count": 15,
   "id": "ae75a06526c0a61",
   "metadata": {
    "ExecuteTime": {
     "end_time": "2024-01-02T14:09:27.914083Z",
     "start_time": "2024-01-02T14:09:27.902744Z"
    },
    "collapsed": false,
    "jupyter": {
     "outputs_hidden": false
    }
   },
   "outputs": [],
   "source": [
    "#another approach is to encode each char in a 27 dim one hot encoding\n",
    "oh = F.one_hot(torch.tensor(5), num_classes=27)"
   ]
  },
  {
   "cell_type": "code",
   "execution_count": 16,
   "id": "d540b4f7e7028c96",
   "metadata": {
    "ExecuteTime": {
     "end_time": "2024-01-02T14:09:28.688498Z",
     "start_time": "2024-01-02T14:09:28.662140Z"
    },
    "collapsed": false,
    "jupyter": {
     "outputs_hidden": false
    }
   },
   "outputs": [
    {
     "ename": "RuntimeError",
     "evalue": "expected m1 and m2 to have the same dtype, but got: long long != float",
     "output_type": "error",
     "traceback": [
      "\u001b[0;31m---------------------------------------------------------------------------\u001b[0m",
      "\u001b[0;31mRuntimeError\u001b[0m                              Traceback (most recent call last)",
      "Cell \u001b[0;32mIn[16], line 1\u001b[0m\n\u001b[0;32m----> 1\u001b[0m \u001b[43moh\u001b[49m\u001b[43m \u001b[49m\u001b[38;5;241;43m@\u001b[39;49m\u001b[43m \u001b[49m\u001b[43mC\u001b[49m\n",
      "\u001b[0;31mRuntimeError\u001b[0m: expected m1 and m2 to have the same dtype, but got: long long != float"
     ]
    }
   ],
   "source": [
    "oh @ C"
   ]
  },
  {
   "cell_type": "code",
   "execution_count": 17,
   "id": "e12c28b8736d8bc8",
   "metadata": {
    "ExecuteTime": {
     "end_time": "2024-01-02T14:09:36.256512Z",
     "start_time": "2024-01-02T14:09:36.244948Z"
    },
    "collapsed": false,
    "jupyter": {
     "outputs_hidden": false
    }
   },
   "outputs": [
    {
     "data": {
      "text/plain": [
       "torch.int64"
      ]
     },
     "execution_count": 17,
     "metadata": {},
     "output_type": "execute_result"
    }
   ],
   "source": [
    "oh.dtype"
   ]
  },
  {
   "cell_type": "code",
   "execution_count": 18,
   "id": "50c02de19ffcdc05",
   "metadata": {
    "ExecuteTime": {
     "end_time": "2024-01-02T14:10:13.773470Z",
     "start_time": "2024-01-02T14:10:13.752196Z"
    },
    "collapsed": false,
    "jupyter": {
     "outputs_hidden": false
    }
   },
   "outputs": [
    {
     "data": {
      "text/plain": [
       "tensor([1.2254, 0.0874])"
      ]
     },
     "execution_count": 18,
     "metadata": {},
     "output_type": "execute_result"
    }
   ],
   "source": [
    "oh.float() @ C"
   ]
  },
  {
   "cell_type": "code",
   "execution_count": 19,
   "id": "c8de1420c860942b",
   "metadata": {
    "ExecuteTime": {
     "end_time": "2024-01-02T14:20:15.182645Z",
     "start_time": "2024-01-02T14:20:15.164122Z"
    },
    "collapsed": false,
    "jupyter": {
     "outputs_hidden": false
    }
   },
   "outputs": [],
   "source": [
    "#the above ends up the same, because plucking out the 5th row of C is the same as take a onehot encoded vector of the 5th index and multiplying it with C, as it would cancel out all rows in C except the 5th"
   ]
  },
  {
   "cell_type": "code",
   "execution_count": 21,
   "id": "731a182ed6f58bd8",
   "metadata": {
    "collapsed": false,
    "jupyter": {
     "outputs_hidden": false
    }
   },
   "outputs": [
    {
     "data": {
      "text/plain": [
       "torch.Size([32, 3, 2])"
      ]
     },
     "execution_count": 21,
     "metadata": {},
     "output_type": "execute_result"
    }
   ],
   "source": [
    "C[X].shape  #here we retrieve the 2 dimentional embedding for each of the 32 input examples of 3 character long blocks each"
   ]
  },
  {
   "cell_type": "code",
   "execution_count": null,
   "id": "eb115ca9-a61b-4005-9c4d-bcdba595d69b",
   "metadata": {},
   "outputs": [],
   "source": []
  }
 ],
 "metadata": {
  "kernelspec": {
   "display_name": "Python 3 (ipykernel)",
   "language": "python",
   "name": "python3"
  },
  "language_info": {
   "codemirror_mode": {
    "name": "ipython",
    "version": 3
   },
   "file_extension": ".py",
   "mimetype": "text/x-python",
   "name": "python",
   "nbconvert_exporter": "python",
   "pygments_lexer": "ipython3",
   "version": "3.9.6"
  }
 },
 "nbformat": 4,
 "nbformat_minor": 5
}
